{
  "cells": [
    {
      "cell_type": "markdown",
      "id": "5f2c093b",
      "metadata": {
        "id": "5f2c093b"
      },
      "source": [
        "# Empreenda com IA\n",
        "Sistema multiagente para ajudar pequenos empreendedores com IA generativa."
      ]
    },
    {
      "cell_type": "code",
      "execution_count": 31,
      "id": "81fac45d",
      "metadata": {
        "id": "81fac45d"
      },
      "outputs": [],
      "source": [
        "import os\n",
        "import google.generativeai as genai\n",
        "from google.colab import userdata\n",
        "\n",
        "# Configuração da API\n",
        "os.environ['GOOGLE_API_KEY'] = userdata.get('GOOGLE_API_KEY')\n",
        "genai.configure(api_key=os.environ['GOOGLE_API_KEY'])\n",
        "\n",
        "# Criação do modelo Gemini Pro correto\n",
        "model = genai.GenerativeModel(model_name=\"models/gemini-2.0-flash\")\n",
        "\n"
      ]
    },
    {
      "cell_type": "code",
      "execution_count": 32,
      "id": "96677038",
      "metadata": {
        "id": "96677038",
        "colab": {
          "base_uri": "https://localhost:8080/",
          "height": 451
        },
        "outputId": "85271c18-4d3e-4ab1-e357-4125e3f76fa0"
      },
      "outputs": [
        {
          "output_type": "stream",
          "name": "stdout",
          "text": [
            "Informe o segmento do negócio: animais\n",
            "Informe o público-alvo: donos de cachorro que não aguentam mais seus cachorros destruirem a cama e lavá-las.\n",
            "Informe os valores da marca: segurança, praticidade, economia, inovação\n",
            "Com base no segmento, público-alvo e valores, aqui estão 3 sugestões de nomes de marca curtos e memoráveis, juntamente com suas justificativas:\n",
            "\n",
            "1.  **K9 Safe**\n",
            "\n",
            "*   **Justificativa:**\n",
            "    *   **Apelo Direto:** \"K9\" é uma abreviação amplamente reconhecida para canino (cachorro), tornando o nome imediatamente relevante para o público-alvo.\n",
            "    *   **Segurança:** \"Safe\" reforça o valor da segurança, tanto para o cachorro (durabilidade da cama, materiais atóxicos) quanto para o dono (tranquilidade em relação à destruição).\n",
            "    *   **Curto e Memorável:** Fácil de lembrar e pronunciar.\n",
            "\n",
            "2.  **Lava Fácil Pet**\n",
            "\n",
            "*   **Justificativa:**\n",
            "    *   **Praticidade:** O nome \"Lava Fácil\" destaca a característica principal do produto, que é a facilidade de limpeza, aliviando a dor do público-alvo.\n",
            "    *   **Pet:** Incluir \"Pet\" no nome garante que o público-alvo entenda que a marca é focada em produtos para animais de estimação.\n",
            "    *   **Direto ao Ponto:** Comunica de forma clara o benefício principal da cama.\n",
            "\n",
            "3.  **Inova Cama**\n",
            "\n",
            "*   **Justificativa:**\n",
            "    *   **Inovação:** \"Inova\" transmite a ideia de que a marca oferece uma solução nova e diferenciada para o problema das camas destruídas.\n",
            "    *   **Simples e direto:** \"Cama\" indica o produto principal da marca, tornando o nome claro e objetivo.\n",
            "    *   **Moderno:** O uso de \"Inova\" confere um ar moderno e tecnológico à marca.\n"
          ]
        }
      ],
      "source": [
        "# Agente 1 – Nome da Marca\n",
        "segmento = input(\"Informe o segmento do negócio: \")\n",
        "publico = input(\"Informe o público-alvo: \")\n",
        "valores = input(\"Informe os valores da marca: \")\n",
        "\n",
        "prompt_nome = f\"\"\"\n",
        "Com base no segmento {segmento}, público-alvo {publico} e os valores {valores}, gere 3 sugestões de nome de marca curtos e memoráveis. Explique o motivo de cada nome sugerido.\n",
        "\"\"\"\n",
        "\n",
        "resposta1 = model.generate_content(prompt_nome)\n",
        "print(resposta1.text)\n"
      ]
    },
    {
      "cell_type": "code",
      "execution_count": 33,
      "id": "e4b3cb14",
      "metadata": {
        "id": "e4b3cb14",
        "colab": {
          "base_uri": "https://localhost:8080/",
          "height": 575
        },
        "outputId": "7d80d687-2c7e-4cfd-e117-994860e44d0f"
      },
      "outputs": [
        {
          "output_type": "stream",
          "name": "stdout",
          "text": [
            "Nome do produto: Camadog\n",
            "Características e diferenciais do produto: cama suspensa, em material lavável, pés de alumínio, leve e pratica\n",
            "## Diga adeus aos pelos e olá para o descanso perfeito do seu pet com a Camadog!\n",
            "\n",
            "Seu melhor amigo merece o melhor! Apresentamos a **Camadog**, a revolução em conforto e higiene para o seu pet. Cansado de camas sujas, cheias de pelos e difíceis de limpar? A Camadog chegou para acabar com seus problemas!\n",
            "\n",
            "**Imagine:**\n",
            "\n",
            "*   Seu pet relaxando em uma cama **suspensa**, livre do frio do chão e da poeira, com ventilação total para um sono fresquinho e reparador.\n",
            "*   Uma cama **facilmente lavável**, onde você pode remover a sujeira e os pelos em segundos, mantendo a higiene do seu lar e a saúde do seu pet.\n",
            "*   Uma estrutura **leve e prática**, que você pode mover para qualquer lugar da casa ou levar em viagens, garantindo o conforto do seu pet onde quer que ele esteja.\n",
            "*   Design moderno com **pés de alumínio**, que além de resistente, agrega elegância ao ambiente.\n",
            "\n",
            "**A Camadog oferece tudo isso e muito mais!**\n",
            "\n",
            "**Benefícios que vão te conquistar:**\n",
            "\n",
            "*   **Conforto elevado:** A suspensão garante o máximo conforto, aliviando a pressão nas articulações e proporcionando um sono profundo.\n",
            "*   **Higiene impecável:** O material lavável facilita a limpeza, eliminando bactérias, odores e pelos, prevenindo alergias e doenças.\n",
            "*   **Praticidade incomparável:** Leve e fácil de transportar, a Camadog é perfeita para o dia a dia e para viagens.\n",
            "*   **Durabilidade garantida:** Fabricada com materiais de alta qualidade, a Camadog é resistente e projetada para durar.\n",
            "*   **Estilo e elegância:** O design moderno com pés de alumínio combina com qualquer decoração, agregando charme ao seu lar.\n",
            "\n",
            "**Não espere mais para proporcionar o melhor para o seu pet!**\n",
            "\n",
            "Clique agora e garanta a **Camadog** com condições especiais de lançamento. Seu amigo peludo vai te agradecer com muito amor e alegria!\n",
            "\n",
            "**Oferta por tempo limitado!** Adquira já a sua e transforme o descanso do seu pet em uma experiência de luxo!\n",
            "\n",
            "**[Botão de compra]**\n",
            "\n"
          ]
        }
      ],
      "source": [
        "# Agente 2 – Descrição do Produto\n",
        "\n",
        "nome_produto = input(\"Nome do produto: \")\n",
        "caracteristicas = input(\"Características e diferenciais do produto: \")\n",
        "\n",
        "prompt_descricao = f\"\"\"Crie uma descrição de produto com foco em vendas para o seguinte item: {nome_produto}, com estas características: {caracteristicas}. Destaque benefícios e use linguagem persuasiva.\"\"\"\n",
        "\n",
        "resposta2 = model.generate_content(prompt_descricao)\n",
        "print(resposta2.text)\n"
      ]
    },
    {
      "cell_type": "code",
      "execution_count": 34,
      "id": "44558f6e",
      "metadata": {
        "id": "44558f6e",
        "colab": {
          "base_uri": "https://localhost:8080/",
          "height": 419
        },
        "outputId": "d1e685fc-59cb-4500-ca09-a869ee914065"
      },
      "outputs": [
        {
          "output_type": "stream",
          "name": "stdout",
          "text": [
            "Tipo de negócio: E-commerce\n",
            "Tom de voz (profissional, divertido, inspirador...): divertido\n",
            "## 3 Opções de Bio para Instagram de E-commerce (Tom Divertido):\n",
            "\n",
            "**Opção 1: Foco na solução de problemas com humor**\n",
            "\n",
            "\"Sua vida tá sem graça? 😩 Calma, a gente te entende! Trazemos soluções criativas (e divertidas!) para o seu dia a dia. ✨ Deixe a mesmice de lado e explore nosso universo de produtos incríveis! 🚀\n",
            "\n",
            "👉 Clique no link abaixo e descubra a felicidade (em forma de produto)! 😉\"\n",
            "\n",
            "**Opção 2: Enfatizando a personalidade da marca e ofertas**\n",
            "\n",
            "\"Somos a loja online que te entende (e te julga um pouquinho pelas suas escolhas... brincadeira! 😂). Amamos produtos diferentões e promoções de cair o queixo! 🤑 Prepara o bolso e o coração, porque a paixão é garantida! ❤️\n",
            "\n",
            "🛒 Tá esperando o quê? Corre pro nosso site e aproveita as ofertas MALUCAS! 😜\"\n",
            "\n",
            "**Opção 3: Mais direta, mas com um toque de irreverência**\n",
            "\n",
            "\"Se você não encontrar o que procura aqui, é porque a gente ainda não inventou! 🤔 Mas relaxa, estamos trabalhando nisso! 😉 Produtos incríveis, entrega rápida e uma dose extra de bom humor. 🤪\n",
            "\n",
            "👇 Desvende o segredo da felicidade (em forma de compra) clicando aqui! 🛍️\"\n",
            "\n"
          ]
        }
      ],
      "source": [
        "## Agente 3 – Bio do Instagram\n",
        "\n",
        "tipo_negocio = input(\"Tipo de negócio: \")\n",
        "tom_voz = input(\"Tom de voz (profissional, divertido, inspirador...): \")\n",
        "\n",
        "prompt_bio = f\"\"\"Crie 3 opções de bio para o Instagram de uma marca de {tipo_negocio}, com o tom de voz {tom_voz}. Incluir uma chamada para ação no final.\"\"\"\n",
        "\n",
        "resposta3 = model.generate_content(prompt_bio)\n",
        "print(resposta3.text)\n"
      ]
    },
    {
      "cell_type": "code",
      "execution_count": 35,
      "id": "46ef5e9a",
      "metadata": {
        "id": "46ef5e9a",
        "colab": {
          "base_uri": "https://localhost:8080/",
          "height": 1000
        },
        "outputId": "f234ae68-ae52-4d20-d018-f81ad692129d"
      },
      "outputs": [
        {
          "output_type": "stream",
          "name": "stdout",
          "text": [
            "Informe o nicho do negócio: pet\n",
            "Quantas vezes por semana deseja postar? (ex: 3x por semana): 3\n",
            "## Calendário de Posts para Instagram - Nicho Pet (Frequência 3x por Semana)\n",
            "\n",
            "**Objetivo Geral:** Construir uma comunidade engajada de amantes de pets, posicionar a marca como referência no nicho e impulsionar a conversão (venda de produtos/serviços, captura de leads).\n",
            "\n",
            "**Observações:**\n",
            "\n",
            "*   Este calendário é um modelo, adapte-o à sua marca, público e produtos/serviços.\n",
            "*   Utilize hashtags relevantes em todas as postagens.\n",
            "*   Interaja com os comentários e mensagens.\n",
            "*   Monitore as métricas para otimizar o conteúdo.\n",
            "*   Varie os temas e formatos para manter o interesse da audiência.\n",
            "*   Considere datas comemorativas do universo pet (ex: Dia Mundial dos Animais, Dia do Veterinário).\n",
            "*   Use legendas criativas e chamativas, com CTAs (Call to Action) claros.\n",
            "*   Mantenha a identidade visual da sua marca.\n",
            "\n",
            "**Semana 1**\n",
            "\n",
            "*   **Segunda-feira:**\n",
            "    *   **Ideia do Post:** \"5 dicas essenciais para a adaptação de um novo pet em casa.\"\n",
            "    *   **Formato:** Carrossel (fotos ou ilustrações + texto conciso em cada slide).\n",
            "    *   **Objetivo:** Atração (conteúdo informativo e útil para atrair novos seguidores interessados em pets).\n",
            "\n",
            "*   **Quarta-feira:**\n",
            "    *   **Ideia do Post:** Enquete nos Stories: \"Qual raça de cachorro combina mais com o seu estilo de vida?\" (Opções: Pequeno, Grande, Ativo, Calmo).\n",
            "    *   **Formato:** Story (enquete interativa).\n",
            "    *   **Objetivo:** Engajamento e Coleta de dados (entender os interesses e preferências dos seus seguidores).\n",
            "\n",
            "*   **Sexta-feira:**\n",
            "    *   **Ideia do Post:** Reels divertido: \"Os momentos mais engraçados do meu pet da semana.\" (vídeos curtos e engraçados do seu pet ou de clientes).\n",
            "    *   **Formato:** Reels (vídeo curto com música em alta e edição dinâmica).\n",
            "    *   **Objetivo:** Atração e viralização (conteúdo divertido para alcançar um público maior e aumentar o número de seguidores).\n",
            "\n",
            "**Semana 2**\n",
            "\n",
            "*   **Segunda-feira:**\n",
            "    *   **Ideia do Post:** \"Guia completo de alimentação natural para cães e gatos.\"\n",
            "    *   **Formato:** Post único com infográfico chamativo\n",
            "    *   **Objetivo:** Autoridade (demonstrar conhecimento e experiência no tema).\n",
            "*   **Quarta-feira:**\n",
            "    *   **Ideia do Post:** Story com \"Perguntas e Respostas\" sobre cuidados com pets (abra uma caixa de perguntas e responda as dúvidas).\n",
            "    *   **Formato:** Story (interação direta com os seguidores).\n",
            "    *   **Objetivo:** Engajamento e Autoridade (construir confiança e mostrar que você se importa com as dúvidas da sua audiência).\n",
            "\n",
            "*   **Sexta-feira:**\n",
            "    *   **Ideia do Post:** Reels: \"Transformação radical: antes e depois da tosa do meu pet!\"\n",
            "    *   **Formato:** Reels (vídeo curto mostrando o antes e depois da tosa, com música animada).\n",
            "    *   **Objetivo:** Atração e Conversão (atrair interessados em serviços de estética pet e promover seus serviços).\n",
            "\n",
            "**Semana 3**\n",
            "\n",
            "*   **Segunda-feira:**\n",
            "    *   **Ideia do Post:** \"5 sinais de que seu gato precisa ir ao veterinário.\"\n",
            "    *   **Formato:** Carrossel (informações importantes e relevantes para os donos de gatos).\n",
            "    *   **Objetivo:** Autoridade e Atração (conteúdo informativo que demonstra cuidado com a saúde dos animais e atrai um público mais específico).\n",
            "*   **Quarta-feira:**\n",
            "    *   **Ideia do Post:** \"Bastidores do nosso dia a dia com os pets.\" (mostre o que acontece por trás das câmeras, como você cuida dos animais, treina, etc.).\n",
            "    *   **Formato:** Stories (vídeos curtos e informais do dia a dia).\n",
            "    *   **Objetivo:** Conexão e Humanização (mostrar o lado humano da sua marca e criar um relacionamento mais próximo com os seus seguidores).\n",
            "\n",
            "*   **Sexta-feira:**\n",
            "    *   **Ideia do Post:** Reels: \"Review sincero do brinquedo favorito do meu cachorro!\" (teste um produto e dê sua opinião honesta).\n",
            "    *   **Formato:** Reels (vídeo curto mostrando o brinquedo em ação e falando sobre seus prós e contras).\n",
            "    *   **Objetivo:** Conversão e Autoridade (influenciar a decisão de compra dos seus seguidores e mostrar que você entende do assunto).\n",
            "\n",
            "**Semana 4**\n",
            "\n",
            "*   **Segunda-feira:**\n",
            "    *   **Ideia do Post:** Carrossel com depoimentos de clientes satisfeitos.\n",
            "    *   **Formato:** Carrossel\n",
            "    *   **Objetivo:** Conversão e Autoridade\n",
            "\n",
            "*   **Quarta-feira:**\n",
            "    *   **Ideia do Post:** Story com caixinha de perguntas sobre adestramento de pets.\n",
            "    *   **Formato:** Story\n",
            "    *   **Objetivo:** Engajamento e Autoridade\n",
            "\n",
            "*   **Sexta-feira:**\n",
            "    *   **Ideia do Post:** Reels mostrando dicas rápidas de adestramento.\n",
            "    *   **Formato:** Reels\n",
            "    *   **Objetivo:** Atração e Autoridade\n",
            "**Lembre-se:** Adapte este calendário à sua realidade, testando diferentes formatos, horários e temas para encontrar o que funciona melhor para o seu público. O importante é ser consistente e criar conteúdo de valor que agregue à vida dos seus seguidores. Boa sorte!\n",
            "\n"
          ]
        }
      ],
      "source": [
        "## Agente 4 – Calendário de Postagens\n",
        "\n",
        "nicho = input(\"Informe o nicho do negócio: \")\n",
        "frequencia = input(\"Quantas vezes por semana deseja postar? (ex: 3x por semana): \")\n",
        "\n",
        "prompt_calendario = f\"\"\"Monte um calendário de posts para Instagram focado em {nicho}, com frequência de {frequencia}. Inclua ideia do post, formato sugerido (carrossel, story, reels) e objetivo (atração, autoridade, conversão).\"\"\"\n",
        "\n",
        "resposta4 = model.generate_content(prompt_calendario)\n",
        "print(resposta4.text)\n"
      ]
    }
  ],
  "metadata": {
    "colab": {
      "provenance": []
    },
    "language_info": {
      "name": "python"
    },
    "kernelspec": {
      "name": "python3",
      "display_name": "Python 3"
    }
  },
  "nbformat": 4,
  "nbformat_minor": 5
}